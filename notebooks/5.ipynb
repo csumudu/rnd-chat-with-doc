{
 "cells": [
  {
   "cell_type": "code",
   "execution_count": 28,
   "metadata": {},
   "outputs": [
    {
     "name": "stdout",
     "output_type": "stream",
     "text": [
      "All nodes--> 126\n"
     ]
    },
    {
     "data": {
      "text/markdown": [
       "Menu Level Security refers to a system where access control is applied at the menu level, determining which menus or options are visible and accessible to users based on their permissions or roles. This approach allows for fine-grained control over user interactions with the system.\n",
       "\n",
       "In this context, associated images would typically be icons or graphics used to represent menu items. If an image is returned as part of a menu item, it's likely that the URL associated with that image is also being retrieved and displayed alongside the menu option. However, without more specific information about the implementation details, it's difficult to say for certain whether the URL is being returned or not.\n",
       "\n",
       "It's worth noting that in some systems, images may be stored locally on the server, while in others they might be fetched from a remote location using a URL. If the image is being retrieved from a remote source, the associated URL would indeed be returned as part of the image data."
      ],
      "text/plain": [
       "<IPython.core.display.Markdown object>"
      ]
     },
     "metadata": {},
     "output_type": "display_data"
    }
   ],
   "source": [
    "from llama_index.readers.web import SimpleWebPageReader\n",
    "from llama_index.core.text_splitter import SentenceSplitter\n",
    "from IPython.display import Markdown,display\n",
    "from llama_index.core import SummaryIndex\n",
    "from llama_index.core import SummaryIndex,Settings\n",
    "from llama_index.llms.openai import OpenAI\n",
    "\n",
    "from rnd_chat_with_doc.modules.util.regex_util import extract_image_paths\n",
    "\n",
    "Settings.llm = OpenAI(\n",
    "    temperature=0,\n",
    "    api_base=\"http://localhost:5000/v1\",\n",
    "    api_key=\"test\",\n",
    "    timeout=600,\n",
    "    max_retries=0    \n",
    ")\n",
    "\n",
    "\n",
    "reader = SimpleWebPageReader(html_to_text=True)\n",
    "urls =[\"http://localhost:8080/ConfigGuide.html\"]\n",
    "docs = reader.load_data(urls)\n",
    "\n",
    "\n",
    "splitter = SentenceSplitter()\n",
    "nodes = splitter.get_nodes_from_documents(docs)\n",
    "\n",
    "print(\"All nodes-->\",len(nodes))\n",
    "for n in nodes:\n",
    "    imgs = extract_image_paths(n.text)\n",
    "    n.metadata['images'] = imgs\n",
    "\n",
    "nodes_with_imd = [n for n in nodes if n.metadata.get('images')]\n",
    "\n",
    "# for n in nodes_with_imd:\n",
    "#     print(n.metadata.get(\"images\"))\n",
    "#     print(\"---------------------------------------\")\n",
    "#     print(n.text)\n",
    "   \n",
    "qe = SummaryIndex(nodes=nodes[1:5]).as_query_engine()\n",
    "\n",
    "res = qe.query(\"what is menu level security and if any associated images return url too\")\n",
    "\n",
    "display(Markdown(res.response))\n"
   ]
  }
 ],
 "metadata": {
  "kernelspec": {
   "display_name": "rnd-chat-with-doc-cDN3P0bN-py3.11",
   "language": "python",
   "name": "python3"
  },
  "language_info": {
   "codemirror_mode": {
    "name": "ipython",
    "version": 3
   },
   "file_extension": ".py",
   "mimetype": "text/x-python",
   "name": "python",
   "nbconvert_exporter": "python",
   "pygments_lexer": "ipython3",
   "version": "3.11.4"
  }
 },
 "nbformat": 4,
 "nbformat_minor": 2
}
