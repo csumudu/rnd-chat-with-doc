{
 "cells": [
  {
   "cell_type": "code",
   "execution_count": null,
   "metadata": {},
   "outputs": [],
   "source": [
    "from llama_index.readers.wikipedia import WikipediaReader\n",
    "\n",
    "loader = WikipediaReader()\n",
    "document = loader.load_data(\n",
    "    pages=['Sri Lanka']\n",
    ")\n",
    "\n",
    "print(f\"length -> {len(document)}\")\n",
    "print(document[0].text)"
   ]
  }
 ],
 "metadata": {
  "kernelspec": {
   "display_name": "rnd-chat-with-doc-cDN3P0bN-py3.11",
   "language": "python",
   "name": "python3"
  },
  "language_info": {
   "codemirror_mode": {
    "name": "ipython",
    "version": 3
   },
   "file_extension": ".py",
   "mimetype": "text/x-python",
   "name": "python",
   "nbconvert_exporter": "python",
   "pygments_lexer": "ipython3",
   "version": "3.11.4"
  }
 },
 "nbformat": 4,
 "nbformat_minor": 2
}
