{
 "cells": [
  {
   "cell_type": "code",
   "execution_count": null,
   "metadata": {},
   "outputs": [],
   "source": [
    "from typing import Any, List\n",
    "from llama_index.core import SimpleDirectoryReader\n",
    "from llama_index.core.ingestion import IngestionCache,IngestionPipeline\n",
    "from llama_index.core.schema import BaseNode, TransformComponent\n",
    "from llama_index.core.extractors import SummaryExtractor,QuestionsAnsweredExtractor\n",
    "\n",
    "class MyNodeTransformer(TransformComponent):\n",
    "    def __call__(self, nodes: List[BaseNode], **kwargs: Any) -> List[BaseNode]:\n",
    "        # nodes = super().__call__(nodes, **kwargs)\n",
    "        # nodes = [{**n, 'metadata':{**n.get('metadata',{}),'author':'sumudu'}} for n in nodes]\n",
    "        return super().__call__(nodes, **kwargs)\n",
    "\n",
    "cache_persist_path=\"../store/ingestionCache.json\"\n",
    "\n",
    "reader = SimpleDirectoryReader(input_dir=\"../docs/small\")\n",
    "\n",
    "documents = reader.load_data()\n",
    "\n",
    "try:\n",
    "    chached = IngestionCache.from_persist_path(persist_path=cache_persist_path)\n",
    "    print(\"Cached file discovered.....\")\n",
    "except:\n",
    "    chached=\"\"\n",
    "    print(\"No cached found.....\")\n",
    "\n",
    "pipeline = IngestionPipeline(\n",
    "    transformations=[\n",
    "        # MyNodeTransformer(),\n",
    "        SummaryExtractor(),\n",
    "        QuestionsAnsweredExtractor(questions=2)\n",
    "    ],\n",
    "    cache=chached\n",
    ")\n",
    "\n",
    "nodes = pipeline.run(\n",
    "    show_progress=True,\n",
    "    documents=documents\n",
    ")\n",
    "pipeline.cache.persist(cache_persist_path)\n",
    "print(\"Pipeline completed...\")\n",
    "\n",
    "for d in nodes[0:10]:\n",
    "    print(d.metadata)"
   ]
  }
 ],
 "metadata": {
  "kernelspec": {
   "display_name": "rnd-chat-with-doc-cDN3P0bN-py3.11",
   "language": "python",
   "name": "python3"
  },
  "language_info": {
   "codemirror_mode": {
    "name": "ipython",
    "version": 3
   },
   "file_extension": ".py",
   "mimetype": "text/x-python",
   "name": "python",
   "nbconvert_exporter": "python",
   "pygments_lexer": "ipython3",
   "version": "3.11.4"
  }
 },
 "nbformat": 4,
 "nbformat_minor": 2
}
