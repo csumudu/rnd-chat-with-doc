{
 "cells": [
  {
   "cell_type": "code",
   "execution_count": 2,
   "metadata": {},
   "outputs": [
    {
     "name": "stdout",
     "output_type": "stream",
     "text": [
      "id_\n",
      "embedding\n",
      "metadata\n",
      "excluded_embed_metadata_keys\n",
      "excluded_llm_metadata_keys\n",
      "relationships\n",
      "text\n",
      "mimetype\n",
      "start_char_idx\n",
      "end_char_idx\n",
      "text_template\n",
      "metadata_template\n",
      "metadata_seperator\n",
      "979e4208-b4d0-435d-b802-a3c6e5d48081\n"
     ]
    }
   ],
   "source": [
    "from llama_index.core import Document\n",
    "\n",
    "txt = \"\"\"Raygun provides actionable real-time insights into the quality and performance of the application. It helps to detect, diagnose, and resolve issues quickly to deliver an enhanced digital experience to customers.\n",
    "\n",
    "The features of Raygun:\n",
    "\n",
    "Error Monitoring and Crash Reporting - provides insights about the application health in real-time and monitors the errors and application crashes with in-depth details of each error.\n",
    "\n",
    "Real User Monitoring - keeps track of the user sessions. Creates a timeline of important information that can help the dev teams to extract reports from the application.\n",
    "\n",
    "Raygun Integration\n",
    "\n",
    "To integrate Raygun with an Angular application, see Angular Integration.\n",
    "\n",
    "Enabling Raygun Analytics\n",
    "\n",
    "To enable Raygun analytics, the analytics-config.js (path - ./assets/config/analytics-config.js) file must be configured.\n",
    "\n",
    "window['customer_connect_global'] = {\n",
    "        enableAnalytics: false,\n",
    "        raygunKey: ''\n",
    "};\n",
    "raygunKey - Enter the API key from the Raygun.\n",
    "\n",
    "enableAnalytics - Set it to true to enable the analytics.\n",
    "\n",
    "For more information about using Raygun web console, see Raygun product guide.\"\"\"\n",
    "\n",
    "doc = Document(\n",
    "    text=txt,\n",
    "    metadata={'categoty':'configGuide'}\n",
    ")\n",
    "\n",
    "for k in doc.__dict__.keys():\n",
    "    print(k)\n",
    "\n",
    "print(doc.doc_id)"
   ]
  },
  {
   "cell_type": "code",
   "execution_count": null,
   "metadata": {},
   "outputs": [],
   "source": []
  }
 ],
 "metadata": {
  "kernelspec": {
   "display_name": "rnd-chat-with-doc-cDN3P0bN-py3.11",
   "language": "python",
   "name": "python3"
  },
  "language_info": {
   "codemirror_mode": {
    "name": "ipython",
    "version": 3
   },
   "file_extension": ".py",
   "mimetype": "text/x-python",
   "name": "python",
   "nbconvert_exporter": "python",
   "pygments_lexer": "ipython3",
   "version": "3.11.4"
  }
 },
 "nbformat": 4,
 "nbformat_minor": 2
}
