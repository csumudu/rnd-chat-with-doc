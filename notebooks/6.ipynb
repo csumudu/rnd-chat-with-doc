{
 "cells": [
  {
   "cell_type": "code",
   "execution_count": 7,
   "metadata": {},
   "outputs": [
    {
     "name": "stderr",
     "output_type": "stream",
     "text": [
      "c:\\Users\\Sumudu\\AppData\\Local\\pypoetry\\Cache\\virtualenvs\\rnd-chat-with-doc-cDN3P0bN-py3.11\\Lib\\site-packages\\tqdm\\auto.py:21: TqdmWarning: IProgress not found. Please update jupyter and ipywidgets. See https://ipywidgets.readthedocs.io/en/stable/user_install.html\n",
      "  from .autonotebook import tqdm as notebook_tqdm\n",
      "Parsing nodes: 100%|██████████| 1/1 [00:01<00:00,  1.13s/it]"
     ]
    },
    {
     "name": "stdout",
     "output_type": "stream",
     "text": [
      "Metadata {'filename': 'ConfigGuide.html', 'extension': '.html', 'tag': 'p'} \n",
      "Text: Release Date\n",
      "Thursday, 1 August 2024\n",
      "Document Vers\n"
     ]
    },
    {
     "name": "stderr",
     "output_type": "stream",
     "text": [
      "\n"
     ]
    }
   ],
   "source": [
    "from llama_index.readers.file import FlatReader\n",
    "from llama_index.core.node_parser import TokenTextSplitter,CodeSplitter,HTMLNodeParser\n",
    "from pathlib import Path\n",
    "from llama_index.core.callbacks import CallbackManager,LlamaDebugHandler\n",
    "from llama_index.core import Settings\n",
    "import logging\n",
    "\n",
    "cb = LlamaDebugHandler(print_trace_on_end=True)\n",
    "cbManager = CallbackManager([cb])\n",
    "\n",
    "Settings.callback_manager = cbManager\n",
    "\n",
    "\n",
    "reader = FlatReader()\n",
    "document = reader.load_data(Path(\"../docs/ConfigGuide.html\"))\n",
    "\n",
    "# splitter = TokenTextSplitter(\n",
    "#                     chunk_size = 70,\n",
    "#                     chunk_overlap = 2,\n",
    "#                     separator = \" \",\n",
    "#                     backup_separators = [\".\", \"!\", \"?\"]\n",
    "#                     )\n",
    "\n",
    "# code_splitter = CodeSplitter.from_defaults(\n",
    "# language = 'python',\n",
    "# chunk_lines = 5,\n",
    "# chunk_lines_overlap = 2,\n",
    "# max_chars = 150\n",
    "# )\n",
    "\n",
    "tags = [\"p\"]\n",
    "htmll_pharsr = HTMLNodeParser(tags=tags)\n",
    "nodes = htmll_pharsr.get_nodes_from_documents(document,show_progress=True)\n",
    "\n",
    "\n",
    "# nodes = splitter.get_nodes_from_documents(document)\n",
    "# nodes = code_splitter.get_nodes_from_documents(document)\n",
    "\n",
    "\n",
    "\n",
    "for node in nodes:\n",
    "    print(f\"Metadata {node.metadata} \\nText: {node.text[0:50]}\")"
   ]
  }
 ],
 "metadata": {
  "kernelspec": {
   "display_name": "rnd-chat-with-doc-cDN3P0bN-py3.11",
   "language": "python",
   "name": "python3"
  },
  "language_info": {
   "codemirror_mode": {
    "name": "ipython",
    "version": 3
   },
   "file_extension": ".py",
   "mimetype": "text/x-python",
   "name": "python",
   "nbconvert_exporter": "python",
   "pygments_lexer": "ipython3",
   "version": "3.11.4"
  }
 },
 "nbformat": 4,
 "nbformat_minor": 2
}
