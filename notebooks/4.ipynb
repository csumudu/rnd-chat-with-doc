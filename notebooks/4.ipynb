{
 "cells": [
  {
   "cell_type": "code",
   "execution_count": 16,
   "metadata": {},
   "outputs": [
    {
     "data": {
      "text/markdown": [
       "To add a new theme, you need to provide color configurations as a JSON file. Place this file under the assets/config/themes folder, using the file name (without the extension) as the applicationTheme property in the static.config.json file located in the assets/config folder."
      ],
      "text/plain": [
       "<IPython.core.display.Markdown object>"
      ]
     },
     "metadata": {},
     "output_type": "display_data"
    }
   ],
   "source": [
    "from llama_index.core.schema import TextNode, Document\n",
    "from llama_index.core import SummaryIndex\n",
    "from llama_index.core.text_splitter import SentenceSplitter\n",
    "from IPython.display import Markdown,display\n",
    "\n",
    "nodes = [\n",
    "    TextNode(text=\"Lionel Messi is a football player from Argentina.\"),\n",
    "    TextNode(text=\"He has won the Ballon d'Or trophy 7 times.\"),\n",
    "    TextNode(text=\"Lionel Messi's hometown is Rosario.\"),\n",
    "    TextNode(text=\"He was born on June 24, 1987.\"),\n",
    "]\n",
    "\n",
    "\n",
    "doc = Document(\n",
    "    text=\"\"\"\n",
    "Configuration of Themes\n",
    "\n",
    "The theme will determine how the colors and text styling are applied to the application. Customer Connect has the following four themes and there is provision to add new themes too:\n",
    "\n",
    "theme-digico(Default Theme)\n",
    "\n",
    "theme-green\n",
    "\n",
    "theme-blue\n",
    "\n",
    "theme-light\n",
    "\n",
    "Changing the application Theme\n",
    "\n",
    "Customer Connect will have theme-digico as the default theme, however, it can be changed using applicationTheme property in static.config.json file.\n",
    "\n",
    "The following names can be used as a value of applicationTheme property.\n",
    "\n",
    "Theme Name\tUsage in static.config.json\n",
    "theme-digico\n",
    "\n",
    "\"applicationTheme\" : \"theme-digico\"\n",
    "\n",
    "theme-light\n",
    "\n",
    "\"applicationTheme\" : \"theme-light\"\n",
    "\n",
    "theme-green\n",
    "\n",
    "\"applicationTheme\" : \"theme-green\"\n",
    "\n",
    "theme-blue\n",
    "\n",
    "\"applicationTheme\" : \"theme-blue\"\n",
    "\n",
    "Adding new Theme\n",
    "\n",
    "A new theme can be added to Customer Connect by providing color configurations as a JSON file, placing it under <CC Root>/assets/config/themes folder, and using the file name (without the extension) as applicationTheme property in <CC Root>/assets/configstatic.config.json file.\n",
    "\n",
    "The following colors can be specified in the theme file:\n",
    "\"\"\"\n",
    ")\n",
    "\n",
    "ccNodes = SentenceSplitter().get_nodes_from_documents(documents=[doc])\n",
    "\n",
    "index = SummaryIndex(ccNodes)\n",
    "\n",
    "qe = index.as_query_engine()\n",
    "r = qe.query(\"how to add new theme\")\n",
    "\n",
    "display(Markdown(r.__str__()))"
   ]
  }
 ],
 "metadata": {
  "kernelspec": {
   "display_name": "rnd-chat-with-doc-cDN3P0bN-py3.11",
   "language": "python",
   "name": "python3"
  },
  "language_info": {
   "codemirror_mode": {
    "name": "ipython",
    "version": 3
   },
   "file_extension": ".py",
   "mimetype": "text/x-python",
   "name": "python",
   "nbconvert_exporter": "python",
   "pygments_lexer": "ipython3",
   "version": "3.11.4"
  }
 },
 "nbformat": 4,
 "nbformat_minor": 2
}
