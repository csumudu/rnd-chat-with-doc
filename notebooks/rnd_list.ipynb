{
 "cells": [
  {
   "cell_type": "code",
   "execution_count": 23,
   "metadata": {},
   "outputs": [
    {
     "name": "stdout",
     "output_type": "stream",
     "text": [
      "Node ID: 55026619-d87c-4279-bf75-c967f3979a97\n",
      "Text: jsjjs\n",
      "[TextNode(id_='01c35f23-fca0-4319-880a-1a766af623f3', embedding=None, metadata={'author': 'sumudu'}, excluded_embed_metadata_keys=[], excluded_llm_metadata_keys=[], relationships={}, text='Sample', mimetype='text/plain', start_char_idx=None, end_char_idx=None, text_template='{metadata_str}\\n\\n{content}', metadata_template='{key}: {value}', metadata_seperator='\\n')]\n"
     ]
    }
   ],
   "source": [
    "from llama_index.core.schema import TextNode\n",
    "from dataclasses import replace\n",
    "\n",
    "nodes =[TextNode(text=\"Sample\")]\n",
    "\n",
    "n2 = TextNode(text=\"jsjjs\")\n",
    "\n",
    "\n",
    "\n",
    "print(n2)\n",
    "update_metadata = lambda n, new_metadata: TextNode(\n",
    "    **{**n.__dict__, \"metadata\": {**n.metadata, **new_metadata}}\n",
    ")\n",
    "\n",
    "nodes = [update_metadata(n, {\"author\": \"sumudu\"}) for n in nodes]\n",
    "\n",
    "print(nodes)\n",
    "     "
   ]
  }
 ],
 "metadata": {
  "kernelspec": {
   "display_name": "rnd-chat-with-doc-cDN3P0bN-py3.11",
   "language": "python",
   "name": "python3"
  },
  "language_info": {
   "codemirror_mode": {
    "name": "ipython",
    "version": 3
   },
   "file_extension": ".py",
   "mimetype": "text/x-python",
   "name": "python",
   "nbconvert_exporter": "python",
   "pygments_lexer": "ipython3",
   "version": "3.11.4"
  }
 },
 "nbformat": 4,
 "nbformat_minor": 2
}
